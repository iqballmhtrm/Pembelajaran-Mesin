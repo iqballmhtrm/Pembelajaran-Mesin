{
  "nbformat": 4,
  "nbformat_minor": 0,
  "metadata": {
    "colab": {
      "provenance": [],
      "authorship_tag": "ABX9TyOzPujkBMzqGorHHJGNxcQY",
      "include_colab_link": true
    },
    "kernelspec": {
      "name": "python3",
      "display_name": "Python 3"
    },
    "language_info": {
      "name": "python"
    }
  },
  "cells": [
    {
      "cell_type": "markdown",
      "metadata": {
        "id": "view-in-github",
        "colab_type": "text"
      },
      "source": [
        "<a href=\"https://colab.research.google.com/github/nrhlzanin/Pembelajaran-Mesin-2024/blob/main/Tugas_JS2.ipynb\" target=\"_parent\"><img src=\"https://colab.research.google.com/assets/colab-badge.svg\" alt=\"Open In Colab\"/></a>"
      ]
    },
    {
      "cell_type": "markdown",
      "source": [
        "#TUGAS PRAKTIKUM\n",
        "Wisconsin Breast Cancer\n",
        "\n",
        "Deskripsi Tugas\n",
        "Pada tugas pratikum ini Anda akan menggunakan data \"Wisconsin Breast Cancer\". Data tersebut terdiri dari 569 data yang digunakan untuk mendiagnonis jenis kanker Malignant (M) dan Benign (B). Tugas Anda adalah,"
      ],
      "metadata": {
        "id": "sjyb7y53fat3"
      }
    },
    {
      "cell_type": "code",
      "source": [
        "# Import pustaka yang diperlukan\n",
        "import pandas as pd\n",
        "from sklearn.preprocessing import LabelEncoder\n",
        "from sklearn.preprocessing import StandardScaler\n",
        "from sklearn.model_selection import train_test_split\n",
        "\n",
        "# Memuat dataset\n",
        "from google.colab import files\n",
        "uploaded = files.upload()\n",
        "\n",
        "# Baca dataset\n",
        "df = pd.read_csv('wbc.csv')\n"
      ],
      "metadata": {
        "colab": {
          "base_uri": "https://localhost:8080/",
          "height": 71
        },
        "id": "r1eg1CNXgni9",
        "outputId": "52da56de-2edf-43bb-bdeb-c6e7b4c184d3"
      },
      "execution_count": 7,
      "outputs": [
        {
          "output_type": "display_data",
          "data": {
            "text/plain": [
              "<IPython.core.display.HTML object>"
            ],
            "text/html": [
              "\n",
              "     <input type=\"file\" id=\"files-190efd78-32a8-46df-8a37-daa8bcfdb869\" name=\"files[]\" multiple disabled\n",
              "        style=\"border:none\" />\n",
              "     <output id=\"result-190efd78-32a8-46df-8a37-daa8bcfdb869\">\n",
              "      Upload widget is only available when the cell has been executed in the\n",
              "      current browser session. Please rerun this cell to enable.\n",
              "      </output>\n",
              "      <script>// Copyright 2017 Google LLC\n",
              "//\n",
              "// Licensed under the Apache License, Version 2.0 (the \"License\");\n",
              "// you may not use this file except in compliance with the License.\n",
              "// You may obtain a copy of the License at\n",
              "//\n",
              "//      http://www.apache.org/licenses/LICENSE-2.0\n",
              "//\n",
              "// Unless required by applicable law or agreed to in writing, software\n",
              "// distributed under the License is distributed on an \"AS IS\" BASIS,\n",
              "// WITHOUT WARRANTIES OR CONDITIONS OF ANY KIND, either express or implied.\n",
              "// See the License for the specific language governing permissions and\n",
              "// limitations under the License.\n",
              "\n",
              "/**\n",
              " * @fileoverview Helpers for google.colab Python module.\n",
              " */\n",
              "(function(scope) {\n",
              "function span(text, styleAttributes = {}) {\n",
              "  const element = document.createElement('span');\n",
              "  element.textContent = text;\n",
              "  for (const key of Object.keys(styleAttributes)) {\n",
              "    element.style[key] = styleAttributes[key];\n",
              "  }\n",
              "  return element;\n",
              "}\n",
              "\n",
              "// Max number of bytes which will be uploaded at a time.\n",
              "const MAX_PAYLOAD_SIZE = 100 * 1024;\n",
              "\n",
              "function _uploadFiles(inputId, outputId) {\n",
              "  const steps = uploadFilesStep(inputId, outputId);\n",
              "  const outputElement = document.getElementById(outputId);\n",
              "  // Cache steps on the outputElement to make it available for the next call\n",
              "  // to uploadFilesContinue from Python.\n",
              "  outputElement.steps = steps;\n",
              "\n",
              "  return _uploadFilesContinue(outputId);\n",
              "}\n",
              "\n",
              "// This is roughly an async generator (not supported in the browser yet),\n",
              "// where there are multiple asynchronous steps and the Python side is going\n",
              "// to poll for completion of each step.\n",
              "// This uses a Promise to block the python side on completion of each step,\n",
              "// then passes the result of the previous step as the input to the next step.\n",
              "function _uploadFilesContinue(outputId) {\n",
              "  const outputElement = document.getElementById(outputId);\n",
              "  const steps = outputElement.steps;\n",
              "\n",
              "  const next = steps.next(outputElement.lastPromiseValue);\n",
              "  return Promise.resolve(next.value.promise).then((value) => {\n",
              "    // Cache the last promise value to make it available to the next\n",
              "    // step of the generator.\n",
              "    outputElement.lastPromiseValue = value;\n",
              "    return next.value.response;\n",
              "  });\n",
              "}\n",
              "\n",
              "/**\n",
              " * Generator function which is called between each async step of the upload\n",
              " * process.\n",
              " * @param {string} inputId Element ID of the input file picker element.\n",
              " * @param {string} outputId Element ID of the output display.\n",
              " * @return {!Iterable<!Object>} Iterable of next steps.\n",
              " */\n",
              "function* uploadFilesStep(inputId, outputId) {\n",
              "  const inputElement = document.getElementById(inputId);\n",
              "  inputElement.disabled = false;\n",
              "\n",
              "  const outputElement = document.getElementById(outputId);\n",
              "  outputElement.innerHTML = '';\n",
              "\n",
              "  const pickedPromise = new Promise((resolve) => {\n",
              "    inputElement.addEventListener('change', (e) => {\n",
              "      resolve(e.target.files);\n",
              "    });\n",
              "  });\n",
              "\n",
              "  const cancel = document.createElement('button');\n",
              "  inputElement.parentElement.appendChild(cancel);\n",
              "  cancel.textContent = 'Cancel upload';\n",
              "  const cancelPromise = new Promise((resolve) => {\n",
              "    cancel.onclick = () => {\n",
              "      resolve(null);\n",
              "    };\n",
              "  });\n",
              "\n",
              "  // Wait for the user to pick the files.\n",
              "  const files = yield {\n",
              "    promise: Promise.race([pickedPromise, cancelPromise]),\n",
              "    response: {\n",
              "      action: 'starting',\n",
              "    }\n",
              "  };\n",
              "\n",
              "  cancel.remove();\n",
              "\n",
              "  // Disable the input element since further picks are not allowed.\n",
              "  inputElement.disabled = true;\n",
              "\n",
              "  if (!files) {\n",
              "    return {\n",
              "      response: {\n",
              "        action: 'complete',\n",
              "      }\n",
              "    };\n",
              "  }\n",
              "\n",
              "  for (const file of files) {\n",
              "    const li = document.createElement('li');\n",
              "    li.append(span(file.name, {fontWeight: 'bold'}));\n",
              "    li.append(span(\n",
              "        `(${file.type || 'n/a'}) - ${file.size} bytes, ` +\n",
              "        `last modified: ${\n",
              "            file.lastModifiedDate ? file.lastModifiedDate.toLocaleDateString() :\n",
              "                                    'n/a'} - `));\n",
              "    const percent = span('0% done');\n",
              "    li.appendChild(percent);\n",
              "\n",
              "    outputElement.appendChild(li);\n",
              "\n",
              "    const fileDataPromise = new Promise((resolve) => {\n",
              "      const reader = new FileReader();\n",
              "      reader.onload = (e) => {\n",
              "        resolve(e.target.result);\n",
              "      };\n",
              "      reader.readAsArrayBuffer(file);\n",
              "    });\n",
              "    // Wait for the data to be ready.\n",
              "    let fileData = yield {\n",
              "      promise: fileDataPromise,\n",
              "      response: {\n",
              "        action: 'continue',\n",
              "      }\n",
              "    };\n",
              "\n",
              "    // Use a chunked sending to avoid message size limits. See b/62115660.\n",
              "    let position = 0;\n",
              "    do {\n",
              "      const length = Math.min(fileData.byteLength - position, MAX_PAYLOAD_SIZE);\n",
              "      const chunk = new Uint8Array(fileData, position, length);\n",
              "      position += length;\n",
              "\n",
              "      const base64 = btoa(String.fromCharCode.apply(null, chunk));\n",
              "      yield {\n",
              "        response: {\n",
              "          action: 'append',\n",
              "          file: file.name,\n",
              "          data: base64,\n",
              "        },\n",
              "      };\n",
              "\n",
              "      let percentDone = fileData.byteLength === 0 ?\n",
              "          100 :\n",
              "          Math.round((position / fileData.byteLength) * 100);\n",
              "      percent.textContent = `${percentDone}% done`;\n",
              "\n",
              "    } while (position < fileData.byteLength);\n",
              "  }\n",
              "\n",
              "  // All done.\n",
              "  yield {\n",
              "    response: {\n",
              "      action: 'complete',\n",
              "    }\n",
              "  };\n",
              "}\n",
              "\n",
              "scope.google = scope.google || {};\n",
              "scope.google.colab = scope.google.colab || {};\n",
              "scope.google.colab._files = {\n",
              "  _uploadFiles,\n",
              "  _uploadFilesContinue,\n",
              "};\n",
              "})(self);\n",
              "</script> "
            ]
          },
          "metadata": {}
        },
        {
          "output_type": "stream",
          "name": "stdout",
          "text": [
            "Saving wbc.csv to wbc.csv\n"
          ]
        }
      ]
    },
    {
      "cell_type": "markdown",
      "source": [
        "1. Pisahkan antara variabel yang dapat digunakan dan variabel yang tidak dapat digunakan."
      ],
      "metadata": {
        "id": "iQbtQxb3gAAA"
      }
    },
    {
      "cell_type": "code",
      "execution_count": 8,
      "metadata": {
        "colab": {
          "base_uri": "https://localhost:8080/"
        },
        "id": "zaJPXdW1fCNM",
        "outputId": "ba2e51bd-d4b8-4906-bf40-c0100a6d5c7f"
      },
      "outputs": [
        {
          "output_type": "stream",
          "name": "stdout",
          "text": [
            "Variabel yang digunakan: ['diagnosis', 'radius_mean', 'texture_mean', 'perimeter_mean', 'area_mean', 'smoothness_mean', 'compactness_mean', 'concavity_mean', 'concave points_mean', 'symmetry_mean', 'fractal_dimension_mean', 'radius_se', 'texture_se', 'perimeter_se', 'area_se', 'smoothness_se', 'compactness_se', 'concavity_se', 'concave points_se', 'symmetry_se', 'fractal_dimension_se', 'radius_worst', 'texture_worst', 'perimeter_worst', 'area_worst', 'smoothness_worst', 'compactness_worst', 'concavity_worst', 'concave points_worst', 'symmetry_worst', 'fractal_dimension_worst']\n",
            "Variabel yang tidak digunakan: ['id']\n"
          ]
        }
      ],
      "source": [
        "# Hapus kolom yang tidak relevan jika ada\n",
        "if 'Unnamed: 32' in df.columns:\n",
        "    df = df.drop(columns=['Unnamed: 32'])\n",
        "\n",
        "# Variabel yang tidak dapat digunakan\n",
        "unused_columns = ['id']  # Kolom 'id' tidak relevan untuk prediksi\n",
        "\n",
        "# Pisahkan variabel yang dapat digunakan\n",
        "used_columns = [col for col in df.columns if col not in unused_columns]\n",
        "\n",
        "# DataFrame dengan variabel yang dapat digunakan\n",
        "df_used = df[used_columns]\n",
        "\n",
        "print(\"Variabel yang digunakan:\", df_used.columns.tolist())\n",
        "print(\"Variabel yang tidak digunakan:\", unused_columns)"
      ]
    },
    {
      "cell_type": "markdown",
      "source": [
        "2. Lakukan proses encoding pada kolom \"diagnosis\"."
      ],
      "metadata": {
        "id": "Vh2Jzm_wgCPb"
      }
    },
    {
      "cell_type": "code",
      "source": [
        "# Encoding kolom \"diagnosis\"\n",
        "df['diagnosis'] = df['diagnosis'].map({'M': 1, 'B': 0})\n",
        "\n",
        "# Tampilkan hasil encoding\n",
        "print(df['diagnosis'].head())"
      ],
      "metadata": {
        "colab": {
          "base_uri": "https://localhost:8080/"
        },
        "id": "cn-tPOUmgFXF",
        "outputId": "38dc3653-5802-4a82-b9eb-27e74f69f43e"
      },
      "execution_count": 9,
      "outputs": [
        {
          "output_type": "stream",
          "name": "stdout",
          "text": [
            "0    1\n",
            "1    1\n",
            "2    1\n",
            "3    1\n",
            "4    1\n",
            "Name: diagnosis, dtype: int64\n"
          ]
        }
      ]
    },
    {
      "cell_type": "code",
      "source": [
        "# Mengidentifikasi kolom non-numerik\n",
        "non_numeric_cols = df.select_dtypes(include=['object']).columns\n",
        "print(\"Kolom non-numerik:\", non_numeric_cols.tolist())"
      ],
      "metadata": {
        "id": "5T8sIfp9HI5r",
        "outputId": "f7a7cd4f-d2b8-453b-a9ea-6e8db080c085",
        "colab": {
          "base_uri": "https://localhost:8080/"
        }
      },
      "execution_count": 13,
      "outputs": [
        {
          "output_type": "stream",
          "name": "stdout",
          "text": [
            "Kolom non-numerik: []\n"
          ]
        }
      ]
    },
    {
      "cell_type": "markdown",
      "source": [
        "3. Lakukan proses standarisasi pada semua kolom yang memiliki nilai numerik."
      ],
      "metadata": {
        "id": "fnf3pi5CgFmW"
      }
    },
    {
      "cell_type": "code",
      "source": [
        "# Identifikasi kolom numerik (kecuali kolom target 'diagnosis')\n",
        "num_cols = df.drop(columns=['diagnosis']).select_dtypes(include=['float64', 'int64']).columns\n",
        "\n",
        "# Inisialisasi scaler\n",
        "scaler = StandardScaler()\n",
        "\n",
        "# Standarisasi kolom numerik\n",
        "df[num_cols] = scaler.fit_transform(df[num_cols])\n",
        "\n",
        "# Tampilkan hasil standarisasi\n",
        "print(df.head())"
      ],
      "metadata": {
        "colab": {
          "base_uri": "https://localhost:8080/"
        },
        "id": "ZSbDxY1jgHry",
        "outputId": "f524f64b-7cf9-4063-b480-75888b3d49a7"
      },
      "execution_count": 10,
      "outputs": [
        {
          "output_type": "stream",
          "name": "stdout",
          "text": [
            "         id  diagnosis  radius_mean  texture_mean  perimeter_mean  area_mean  \\\n",
            "0 -0.236405          1     1.097064     -2.073335        1.269934   0.984375   \n",
            "1 -0.236403          1     1.829821     -0.353632        1.685955   1.908708   \n",
            "2  0.431741          1     1.579888      0.456187        1.566503   1.558884   \n",
            "3  0.432121          1    -0.768909      0.253732       -0.592687  -0.764464   \n",
            "4  0.432201          1     1.750297     -1.151816        1.776573   1.826229   \n",
            "\n",
            "   smoothness_mean  compactness_mean  concavity_mean  concave points_mean  \\\n",
            "0         1.568466          3.283515        2.652874             2.532475   \n",
            "1        -0.826962         -0.487072       -0.023846             0.548144   \n",
            "2         0.942210          1.052926        1.363478             2.037231   \n",
            "3         3.283553          3.402909        1.915897             1.451707   \n",
            "4         0.280372          0.539340        1.371011             1.428493   \n",
            "\n",
            "   ...  radius_worst  texture_worst  perimeter_worst  area_worst  \\\n",
            "0  ...      1.886690      -1.359293         2.303601    2.001237   \n",
            "1  ...      1.805927      -0.369203         1.535126    1.890489   \n",
            "2  ...      1.511870      -0.023974         1.347475    1.456285   \n",
            "3  ...     -0.281464       0.133984        -0.249939   -0.550021   \n",
            "4  ...      1.298575      -1.466770         1.338539    1.220724   \n",
            "\n",
            "   smoothness_worst  compactness_worst  concavity_worst  concave points_worst  \\\n",
            "0          1.307686           2.616665         2.109526              2.296076   \n",
            "1         -0.375612          -0.430444        -0.146749              1.087084   \n",
            "2          0.527407           1.082932         0.854974              1.955000   \n",
            "3          3.394275           3.893397         1.989588              2.175786   \n",
            "4          0.220556          -0.313395         0.613179              0.729259   \n",
            "\n",
            "   symmetry_worst  fractal_dimension_worst  \n",
            "0        2.750622                 1.937015  \n",
            "1       -0.243890                 0.281190  \n",
            "2        1.152255                 0.201391  \n",
            "3        6.046041                 4.935010  \n",
            "4       -0.868353                -0.397100  \n",
            "\n",
            "[5 rows x 32 columns]\n"
          ]
        }
      ]
    },
    {
      "cell_type": "markdown",
      "source": [
        "*Pembenaran kode program kolom diagnosis diikutkan dalam proses standardScaler*"
      ],
      "metadata": {
        "id": "xJdPLDtFA-bo"
      }
    },
    {
      "cell_type": "code",
      "source": [
        "# Identifikasi semua kolom numerik termasuk 'diagnosis'\n",
        "num_cols = df.select_dtypes(include=['float64', 'int64']).columns\n",
        "\n",
        "# Inisialisasi scaler\n",
        "scaler = StandardScaler()\n",
        "\n",
        "# Standarisasi semua kolom numerik termasuk 'diagnosis'\n",
        "df[num_cols] = scaler.fit_transform(df[num_cols])\n",
        "\n",
        "# Menampilkan hasil standarisasi\n",
        "print(df.head())"
      ],
      "metadata": {
        "id": "wunpqPFcA9zr",
        "outputId": "c86bfac0-a489-40cf-d692-7d70310aed39",
        "colab": {
          "base_uri": "https://localhost:8080/"
        }
      },
      "execution_count": 11,
      "outputs": [
        {
          "output_type": "stream",
          "name": "stdout",
          "text": [
            "         id  diagnosis  radius_mean  texture_mean  perimeter_mean  area_mean  \\\n",
            "0 -0.236405   1.297676     1.097064     -2.073335        1.269934   0.984375   \n",
            "1 -0.236403   1.297676     1.829821     -0.353632        1.685955   1.908708   \n",
            "2  0.431741   1.297676     1.579888      0.456187        1.566503   1.558884   \n",
            "3  0.432121   1.297676    -0.768909      0.253732       -0.592687  -0.764464   \n",
            "4  0.432201   1.297676     1.750297     -1.151816        1.776573   1.826229   \n",
            "\n",
            "   smoothness_mean  compactness_mean  concavity_mean  concave points_mean  \\\n",
            "0         1.568466          3.283515        2.652874             2.532475   \n",
            "1        -0.826962         -0.487072       -0.023846             0.548144   \n",
            "2         0.942210          1.052926        1.363478             2.037231   \n",
            "3         3.283553          3.402909        1.915897             1.451707   \n",
            "4         0.280372          0.539340        1.371011             1.428493   \n",
            "\n",
            "   ...  radius_worst  texture_worst  perimeter_worst  area_worst  \\\n",
            "0  ...      1.886690      -1.359293         2.303601    2.001237   \n",
            "1  ...      1.805927      -0.369203         1.535126    1.890489   \n",
            "2  ...      1.511870      -0.023974         1.347475    1.456285   \n",
            "3  ...     -0.281464       0.133984        -0.249939   -0.550021   \n",
            "4  ...      1.298575      -1.466770         1.338539    1.220724   \n",
            "\n",
            "   smoothness_worst  compactness_worst  concavity_worst  concave points_worst  \\\n",
            "0          1.307686           2.616665         2.109526              2.296076   \n",
            "1         -0.375612          -0.430444        -0.146749              1.087084   \n",
            "2          0.527407           1.082932         0.854974              1.955000   \n",
            "3          3.394275           3.893397         1.989588              2.175786   \n",
            "4          0.220556          -0.313395         0.613179              0.729259   \n",
            "\n",
            "   symmetry_worst  fractal_dimension_worst  \n",
            "0        2.750622                 1.937015  \n",
            "1       -0.243890                 0.281190  \n",
            "2        1.152255                 0.201391  \n",
            "3        6.046041                 4.935010  \n",
            "4       -0.868353                -0.397100  \n",
            "\n",
            "[5 rows x 32 columns]\n"
          ]
        }
      ]
    },
    {
      "cell_type": "markdown",
      "source": [
        "4. Lakukan proses stratified split data untuk membuat data latih dan data uji dengan rasio 80:20."
      ],
      "metadata": {
        "id": "Fg90w6-bgIKp"
      }
    },
    {
      "cell_type": "code",
      "source": [
        "# Split data\n",
        "from sklearn.model_selection import train_test_split\n",
        "\n",
        "# Split data training dan dan lainnya\n",
        "# split lagi menjadi validasi dan testing.\n",
        "# Rasio yang akan kita gunakan adalah 8:1:1\n",
        "df_train, df_unseen = train_test_split(df, test_size=0.2, random_state=0, stratify=df['diagnosis'])\n",
        "\n",
        "# Split lagi antara validasi dan testing\n",
        "df_val, df_test = train_test_split(df_unseen, test_size=0.5, random_state=0, stratify=df_unseen['diagnosis'])\n",
        "\n",
        "# Cek jumlah data asli, data latih, validasi, dan uji\n",
        "print(f'Jumlah data asli: {len(df)}')\n",
        "print(f'Jumlah data train: {len(df_train)}')\n",
        "print(f'Jumlah data val: {len(df_val)}')\n",
        "print(f'Jumlah data test: {len(df_test)}')\n",
        "print(f'-----------------------------------')\n",
        "# Cek distribusi label pada setiap subset\n",
        "print(f'Jumlah label data asli:\\n{df.diagnosis.value_counts()}')\n",
        "print(f'Jumlah label data train:\\n{df_train.diagnosis.value_counts()}')\n",
        "print(f'Jumlah label data val:\\n{df_val.diagnosis.value_counts()}')\n",
        "print(f'Jumlah label data test:\\n{df_test.diagnosis.value_counts()}')"
      ],
      "metadata": {
        "colab": {
          "base_uri": "https://localhost:8080/"
        },
        "id": "Vdyedxs2gKJe",
        "outputId": "dfbc00fe-3ded-47b7-8a73-f6ee88f41917"
      },
      "execution_count": 12,
      "outputs": [
        {
          "output_type": "stream",
          "name": "stdout",
          "text": [
            "Jumlah data asli: 569\n",
            "Jumlah data train: 455\n",
            "Jumlah data val: 57\n",
            "Jumlah data test: 57\n",
            "-----------------------------------\n",
            "Jumlah label data asli:\n",
            "diagnosis\n",
            "-0.770609    357\n",
            " 1.297676    212\n",
            "Name: count, dtype: int64\n",
            "Jumlah label data train:\n",
            "diagnosis\n",
            "-0.770609    285\n",
            " 1.297676    170\n",
            "Name: count, dtype: int64\n",
            "Jumlah label data val:\n",
            "diagnosis\n",
            "-0.770609    36\n",
            " 1.297676    21\n",
            "Name: count, dtype: int64\n",
            "Jumlah label data test:\n",
            "diagnosis\n",
            "-0.770609    36\n",
            " 1.297676    21\n",
            "Name: count, dtype: int64\n"
          ]
        }
      ]
    }
  ]
}